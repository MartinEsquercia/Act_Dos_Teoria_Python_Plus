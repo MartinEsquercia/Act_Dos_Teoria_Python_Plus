{
 "cells": [
  {
   "cell_type": "markdown",
   "id": "3d1749c4",
   "metadata": {},
   "source": [
    "Imports"
   ]
  },
  {
   "cell_type": "code",
   "execution_count": 26,
   "id": "83268be4",
   "metadata": {},
   "outputs": [],
   "source": [
    "import pandas as pd \n",
    "import matplotlib.pyplot as plt"
   ]
  },
  {
   "cell_type": "markdown",
   "id": "3137877b",
   "metadata": {},
   "source": [
    "Funcion"
   ]
  },
  {
   "cell_type": "code",
   "execution_count": 27,
   "id": "8075a287",
   "metadata": {},
   "outputs": [],
   "source": [
    "def mi_Funcion(l):\n",
    "  return l[1]"
   ]
  },
  {
   "cell_type": "markdown",
   "id": "7b0d2d6d",
   "metadata": {},
   "source": [
    "Inicializaciones"
   ]
  },
  {
   "cell_type": "code",
   "execution_count": 28,
   "id": "ecb1c775",
   "metadata": {},
   "outputs": [],
   "source": [
    "path = \"datos_de_prueba.csv\"\n",
    "\n",
    "lista_nombres = []\n",
    "\n",
    "datos = pd.read_csv(path)\n",
    "num = 0"
   ]
  },
  {
   "cell_type": "markdown",
   "id": "c6bdecb9",
   "metadata": {},
   "source": [
    "Recorro el archivo csv"
   ]
  },
  {
   "cell_type": "code",
   "execution_count": 29,
   "id": "e3ed0bc8",
   "metadata": {},
   "outputs": [],
   "source": [
    "while datos.iloc[num][\"Tiempo\"] != datos.iloc[-1][\"Tiempo\"]:#leo todo el csv\n",
    "    ult_valor = pd.read_csv(path).iloc[num][\"Nombre de evento\"]#guardo el campo que me interesa\n",
    "    if ult_valor == \"inicio_partida\":#comparo si es el que me sirve\n",
    "\n",
    "        if not lista_nombres:#si la lista esta vacia agrego\n",
    "            aux = [datos.iloc[num][\"Usuarie - nick\"],1]\n",
    "            lista_nombres.append(aux)\n",
    "        else:#sino\n",
    "\n",
    "            for i in range(len(lista_nombres)):#primero busco\n",
    "                if lista_nombres[i][0] == datos.iloc[num][\"Usuarie - nick\"]:\n",
    "                    aux = [lista_nombres[i][0],lista_nombres[i][1]+1]\n",
    "                    lista_nombres.append(aux)\n",
    "                    lista_nombres.remove(lista_nombres[i])\n",
    "                    break\n",
    "\n",
    "            if(lista_nombres[-1][0]!=datos.iloc[num][\"Usuarie - nick\"]):#si la otra opcion fallo entonces no esta en la lista, agrego\n",
    "                aux = [datos.iloc[num][\"Usuarie - nick\"],1]\n",
    "                lista_nombres.append(aux)\n",
    "\n",
    "    num = num + 1"
   ]
  },
  {
   "cell_type": "markdown",
   "id": "f150dedf",
   "metadata": {},
   "source": [
    "Preparo los datos para el grafico"
   ]
  },
  {
   "cell_type": "code",
   "execution_count": 30,
   "id": "2b588f4a",
   "metadata": {},
   "outputs": [],
   "source": [
    "aux_lista= []\n",
    "x = []\n",
    "y= []\n",
    "\n",
    "\n",
    "aux_lista.append(sorted(lista_nombres, key=mi_Funcion,reverse=True)[:3])#los 3 que mas partidas jugaron\n",
    "for j in range(3):\n",
    "    y.append(aux_lista[0][j][1])\n",
    "    x.append(aux_lista[0][j][0])"
   ]
  },
  {
   "cell_type": "markdown",
   "id": "05db618f",
   "metadata": {},
   "source": [
    "Creo y muestro el grafico"
   ]
  },
  {
   "cell_type": "code",
   "execution_count": 31,
   "id": "4c941302",
   "metadata": {},
   "outputs": [
    {
     "data": {
      "image/png": "[encoded data removed]",
      "text/plain": [
       "<Figure size 432x288 with 1 Axes>"
      ]
     },
     "metadata": {
      "needs_background": "light"
     },
     "output_type": "display_data"
    }
   ],
   "source": [
    "plt.bar(x,y)\n",
    "plt.show()"
   ]
  },
  {
   "cell_type": "markdown",
   "id": "fa19d9e3",
   "metadata": {},
   "source": []
  }
 ],
 "metadata": {
  "kernelspec": {
   "display_name": "Python 3",
   "language": "python",
   "name": "python3"
  },
  "language_info": {
   "codemirror_mode": {
    "name": "ipython",
    "version": 3
   },
   "file_extension": ".py",
   "mimetype": "text/x-python",
   "name": "python",
   "nbconvert_exporter": "python",
   "pygments_lexer": "ipython3",
   "version": "3.8.5"
  }
 },
 "nbformat": 4,
 "nbformat_minor": 5
}
